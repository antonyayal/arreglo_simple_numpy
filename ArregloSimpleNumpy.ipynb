{
  "nbformat": 4,
  "nbformat_minor": 0,
  "metadata": {
    "colab": {
      "provenance": [],
      "toc_visible": true,
      "authorship_tag": "ABX9TyNw5IncB/CXzj5h5PQ3o8WU",
      "include_colab_link": true
    },
    "kernelspec": {
      "name": "python3",
      "display_name": "Python 3"
    },
    "language_info": {
      "name": "python"
    }
  },
  "cells": [
    {
      "cell_type": "markdown",
      "metadata": {
        "id": "view-in-github",
        "colab_type": "text"
      },
      "source": [
        "<a href=\"https://colab.research.google.com/github/antonyayal/arreglo_simple_numpy/blob/master/ArregloSimpleNumpy.ipynb\" target=\"_parent\"><img src=\"https://colab.research.google.com/assets/colab-badge.svg\" alt=\"Open In Colab\"/></a>"
      ]
    },
    {
      "cell_type": "markdown",
      "source": [
        "Mi arreglo con numpy"
      ],
      "metadata": {
        "id": "h6LnQ0xLwVgu"
      }
    },
    {
      "cell_type": "code",
      "source": [
        "import numpy as np\n",
        "\n",
        "# Crear un arreglo de números\n",
        "a = np.array([1, 2, 3, 4, 5])\n",
        "\n",
        "# Mostrar el arreglo\n",
        "print(a)"
      ],
      "metadata": {
        "id": "UQgdXk9bwU93"
      },
      "execution_count": null,
      "outputs": []
    }
  ]
}